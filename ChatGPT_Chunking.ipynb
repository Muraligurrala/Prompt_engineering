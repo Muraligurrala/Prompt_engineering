{
  "nbformat": 4,
  "nbformat_minor": 0,
  "metadata": {
    "colab": {
      "provenance": [],
      "include_colab_link": true
    },
    "kernelspec": {
      "name": "python3",
      "display_name": "Python 3"
    },
    "language_info": {
      "name": "python"
    }
  },
  "cells": [
    {
      "cell_type": "markdown",
      "metadata": {
        "id": "view-in-github",
        "colab_type": "text"
      },
      "source": [
        "<a href=\"https://colab.research.google.com/github/Muraligurrala/Prompt_engineering/blob/main/ChatGPT_Chunking.ipynb\" target=\"_parent\"><img src=\"https://colab.research.google.com/assets/colab-badge.svg\" alt=\"Open In Colab\"/></a>"
      ]
    },
    {
      "cell_type": "code",
      "execution_count": null,
      "metadata": {
        "id": "QFBcmsDkZDMN",
        "colab": {
          "base_uri": "https://localhost:8080/"
        },
        "outputId": "461ca77b-6a6b-487e-f548-cc9107a79253"
      },
      "outputs": [
        {
          "output_type": "stream",
          "name": "stdout",
          "text": [
            "\u001b[2K     \u001b[90m━━━━━━━━━━━━━━━━━━━━━━━━━━━━━━━━━━━━━━━━\u001b[0m \u001b[32m1.7/1.7 MB\u001b[0m \u001b[31m16.8 MB/s\u001b[0m eta \u001b[36m0:00:00\u001b[0m\n",
            "\u001b[2K     \u001b[90m━━━━━━━━━━━━━━━━━━━━━━━━━━━━━━━━━━━━━━━\u001b[0m \u001b[32m70.1/70.1 KB\u001b[0m \u001b[31m625.6 kB/s\u001b[0m eta \u001b[36m0:00:00\u001b[0m\n",
            "\u001b[2K     \u001b[90m━━━━━━━━━━━━━━━━━━━━━━━━━━━━━━━━━━━━━━━━\u001b[0m \u001b[32m1.0/1.0 MB\u001b[0m \u001b[31m11.4 MB/s\u001b[0m eta \u001b[36m0:00:00\u001b[0m\n",
            "\u001b[2K     \u001b[90m━━━━━━━━━━━━━━━━━━━━━━━━━━━━━━━━━━━━━━━\u001b[0m \u001b[32m114.2/114.2 KB\u001b[0m \u001b[31m2.9 MB/s\u001b[0m eta \u001b[36m0:00:00\u001b[0m\n",
            "\u001b[2K     \u001b[90m━━━━━━━━━━━━━━━━━━━━━━━━━━━━━━━━━━━━━━━\u001b[0m \u001b[32m264.6/264.6 KB\u001b[0m \u001b[31m8.2 MB/s\u001b[0m eta \u001b[36m0:00:00\u001b[0m\n",
            "\u001b[2K     \u001b[90m━━━━━━━━━━━━━━━━━━━━━━━━━━━━━━━━━━━━━━━\u001b[0m \u001b[32m158.8/158.8 KB\u001b[0m \u001b[31m6.4 MB/s\u001b[0m eta \u001b[36m0:00:00\u001b[0m\n",
            "\u001b[?25h"
          ]
        }
      ],
      "source": [
        "%pip install tiktoken --upgrade --quiet\n",
        "%pip install openai --upgrade --quiet\n",
        "%pip install tenacity --upgrade --quiet"
      ]
    },
    {
      "cell_type": "code",
      "source": [
        "import openai\n",
        "import tiktoken\n",
        "from tenacity import (\n",
        "    retry,\n",
        "    stop_after_attempt,\n",
        "    wait_random_exponential,\n",
        ")  # for exponential backoff\n",
        "\n",
        "# Enter in your API key here:\n",
        "openai.api_key = \"\""
      ],
      "metadata": {
        "id": "uLsVAvsSZDvS"
      },
      "execution_count": null,
      "outputs": []
    },
    {
      "cell_type": "code",
      "source": [
        "article_headings = [\n",
        "    \"I. Introduction A. Definition of the 2008 Financial Crisis B. Overview of the Causes and Effects of the Crisis C. Importance of Understanding the Crisis\",\n",
        "    \"II. Historical Background A. Brief History of the US Financial System B. The Creation of the Housing Bubble C. The Growth of the Subprime Mortgage Market\",\n",
        "    \"III. Key Players in the Crisis A. Government Entities B. Financial Institutions C. Homeowners and Borrowers\",\n",
        "    \"IV. Causes of the Crisis A. The Housing Bubble and Subprime Mortgages B. The Role of Investment Banks and Rating Agencies C. The Failure of Regulatory Agencies D. Deregulation of the Financial Industry\",\n",
        "    \"V. The Domino Effect A. The Spread of the Crisis to the Global Financial System B. The Impact on the Real Economy C. The Economic Recession\",\n",
        "    \"VI. Government Responses A. The Troubled Asset Relief Program (TARP) B. The American Recovery and Reinvestment Act C. The Dodd-Frank Wall Street Reform and Consumer Protection Act\",\n",
        "    \"VII. Effects on Financial Institutions A. Bank Failures and Bailouts B. Stock Market Decline C. Credit Freeze\",\n",
        "    \"VIII. Effects on Homeowners and Borrowers A. Foreclosures and Bankruptcies B. The Loss of Home Equity C. The Impact on Credit Scores\",\n",
        "    \"IX. Effects on the Global Economy A. The Global Financial Crisis B. The Impact on Developing Countries C. The Role of International Organizations\",\n",
        "    \"X. Criticisms and Controversies A. Bailouts for Financial Institutions B. Government Intervention in the Economy C. The Role of Wall Street in the Crisis\",\n",
        "    \"XI. Lessons Learned A. The Need for Stronger Regulation B. The Importance of Transparency C. The Need for Better Risk Management\",\n",
        "    \"XII. Reforms and Changes A. The Dodd-Frank Wall Street Reform and Consumer Protection Act B. Changes in Regulatory Agencies C. Changes in the Financial Industry\",\n",
        "    \"XIII. Current Economic Situation A. Recovery from the Crisis B. Impact on the Job Market C. The Future of the US Economy\",\n",
        "    \"XIV. Comparison to Previous Financial Crises A. The Great Depression B. The Savings and Loan Crisis C. The Dot-Com Bubble\",\n",
        "    \"XV. Economic and Social Impacts A. The Widening Wealth Gap B. The Rise of Populist Movements C. The Long-Term Effects on the Economy\",\n",
        "    \"XVI. The Role of Technology A. The Use of Technology in the Financial Industry B. The Impact of Technology on the Crisis C. The Future of the Financial Industry\",\n",
        "    \"XVII. Conclusion A. Recap of the Causes and Effects of the Crisis B. The Importance of Learning from the Crisis C. Final Thoughts\",\n",
        "    \"XVIII. References A. List of Sources B. Additional Reading C. Further Research\",\n",
        "    \"XIX. Glossary A. Key Terms B. Definitions\",\n",
        "    \"XX. Appendix A. Timeline of the Crisis B. Financial Statements of Key Players C. Statistical Data on the Crisis\",\n",
        "]"
      ],
      "metadata": {
        "id": "o_HVGvXNZGci"
      },
      "execution_count": null,
      "outputs": []
    },
    {
      "cell_type": "code",
      "source": [
        "@retry(wait=wait_random_exponential(min=1, max=60), stop=stop_after_attempt(6))\n",
        "def chatgpt_completion_with_backoff(**kwargs):\n",
        "    return openai.ChatCompletion.create(**kwargs)"
      ],
      "metadata": {
        "id": "IHXEgE0eZH4L"
      },
      "execution_count": null,
      "outputs": []
    },
    {
      "cell_type": "code",
      "source": [
        "def parse_for_chat_history(response: openai.openai_object.OpenAIObject = False, user_prompt=None):\n",
        "    if user_prompt:\n",
        "        return {'role': 'user', 'content': user_prompt}\n",
        "    return {'role': 'assistant', 'content': response.choices[0].message.content}"
      ],
      "metadata": {
        "id": "Hsu4zdYCZIlW"
      },
      "execution_count": null,
      "outputs": []
    },
    {
      "cell_type": "code",
      "source": [
        "def num_tokens_from_messages(messages, model=\"gpt-3.5-turbo-0301\"):\n",
        "  \"\"\"Returns the number of tokens used by a list of messages.\"\"\"\n",
        "  try:\n",
        "      encoding = tiktoken.encoding_for_model(model)\n",
        "  except KeyError:\n",
        "      encoding = tiktoken.get_encoding(\"cl100k_base\")\n",
        "  if model == \"gpt-3.5-turbo-0301\":  # note: future models may deviate from this\n",
        "      num_tokens = 0\n",
        "      for message in messages:\n",
        "          num_tokens += 4  # every message follows <im_start>{role/name}\\n{content}<im_end>\\n\n",
        "          for key, value in message.items():\n",
        "              num_tokens += len(encoding.encode(value))\n",
        "              if key == \"name\":  # if there's a name, the role is omitted\n",
        "                  num_tokens += -1  # role is always required and always 1 token\n",
        "      num_tokens += 2  # every reply is primed with <im_start>assistant\n",
        "      return num_tokens\n",
        "  else:\n",
        "      raise NotImplementedError(f\"\"\"num_tokens_from_messages() is not presently implemented for model {model}.\n",
        "  See https://github.com/openai/openai-python/blob/main/chatml.md for information on how messages are converted to tokens.\"\"\")"
      ],
      "metadata": {
        "id": "K7fHOhzaZJzY"
      },
      "execution_count": null,
      "outputs": []
    },
    {
      "cell_type": "code",
      "source": [
        "messages = [\n",
        "  {\"role\": \"system\", \"content\": \"You are a helpful, pattern-following assistant that translates corporate jargon into plain English.\"},\n",
        "  {\"role\": \"system\", \"name\":\"example_user\", \"content\": \"New synergies will help drive top-line growth.\"},\n",
        "  {\"role\": \"system\", \"name\": \"example_assistant\", \"content\": \"Things working well together will increase revenue.\"},\n",
        "  {\"role\": \"system\", \"name\":\"example_user\", \"content\": \"Let's circle back when we have more bandwidth to touch base on opportunities for increased leverage.\"},\n",
        "  {\"role\": \"system\", \"name\": \"example_assistant\", \"content\": \"Let's talk later when we're less busy about how to do better.\"},\n",
        "  {\"role\": \"user\", \"content\": \"This late pivot means we don't have time to boil the ocean for the client deliverable.\"},\n",
        "]\n",
        "\n",
        "model = \"gpt-3.5-turbo-0301\"\n",
        "\n",
        "print(f\"{num_tokens_from_messages(messages, model)} prompt tokens counted.\")\n",
        "# Should show ~126 total_tokens"
      ],
      "metadata": {
        "id": "6Mhanr-gZK-2",
        "colab": {
          "base_uri": "https://localhost:8080/"
        },
        "outputId": "37b65267-c9b3-42b7-d67a-50a74bb39921"
      },
      "execution_count": null,
      "outputs": [
        {
          "output_type": "stream",
          "name": "stdout",
          "text": [
            "126 prompt tokens counted.\n"
          ]
        }
      ]
    },
    {
      "cell_type": "code",
      "source": [
        "system_prompt = \"You are a helpful assistant for a financial news website. You are writing a series of articles about the 2008 financial crisis. You have been given a list of headings for each article. You need to write a short paragraph for each heading. You can use the headings as a starting point for your writing.\\n\\n\"\n",
        "system_prompt += \"All of the subheadings:\\n\"\n",
        "\n",
        "# Add all of the subheadings to the system prompt to give the model context:\n",
        "for heading in article_headings:\n",
        "    system_prompt += f\"{heading}\\n\"\n",
        "\n",
        "# Create the chat history object:\n",
        "chat_history =  []\n",
        "\n",
        "# Add in the system message:\n",
        "chat_history.append({'role': 'system', 'content': system_prompt})"
      ],
      "metadata": {
        "id": "YDM9p9zZZMYp"
      },
      "execution_count": null,
      "outputs": []
    },
    {
      "cell_type": "code",
      "source": [
        "# Loop over all of the headings and generate a chunk for each one\n",
        "for heading in article_headings:\n",
        "     # Add on a user prompt to the chat history object:\n",
        "    chat_history.append({'role': 'user', 'content': f\"Write a short paragraph about {heading}\"})\n",
        "\n",
        "    # Tell ChatGPT to generate a response:\n",
        "    response = chatgpt_completion_with_backoff(\n",
        "        model=\"gpt-3.5-turbo\",\n",
        "        messages=chat_history)\n",
        "\n",
        "    # Get the response from the ChatGPT object:\n",
        "    chat_history.append(parse_for_chat_history(response))\n",
        "\n",
        "    # Whilst the Chat history object is more than 4096 tokens, remove the oldest message:\n",
        "    while num_tokens_from_messages(chat_history, model) > 3400:\n",
        "        # If the oldest message is not a system message, remove it:\n",
        "        if chat_history[0]['role'] != 'system':\n",
        "            chat_history.pop(0)\n",
        "\n",
        "    # Print the response:\n",
        "    print(response)"
      ],
      "metadata": {
        "id": "cPMrnb8RZNk2",
        "colab": {
          "base_uri": "https://localhost:8080/"
        },
        "outputId": "e6d1cb85-fcf7-4ce8-8f7b-8b77c48a2e75"
      },
      "execution_count": null,
      "outputs": [
        {
          "output_type": "stream",
          "name": "stdout",
          "text": [
            "{\n",
            "  \"choices\": [\n",
            "    {\n",
            "      \"finish_reason\": \"stop\",\n",
            "      \"index\": 0,\n",
            "      \"message\": {\n",
            "        \"content\": \"The 2008 financial crisis was a global economic downturn that began in the United States, characterized by the collapse of the housing market, the failure of numerous financial institutions, and widespread job loss. The crisis was caused by a combination of factors, including the housing bubble and subprime mortgage market, the role of investment banks and rating agencies, and the failure of regulatory agencies. It spread quickly to the global financial system, resulting in a credit freeze and economic recession that had long-term effects on the economy. Understanding the causes and effects of the crisis is crucial in preventing future economic downturns and ensuring a stable financial system.\",\n",
            "        \"role\": \"assistant\"\n",
            "      }\n",
            "    }\n",
            "  ],\n",
            "  \"created\": 1679071519,\n",
            "  \"id\": \"chatcmpl-6v7UdeiLaJUY6fx95vqPrtJzIEKSs\",\n",
            "  \"model\": \"gpt-3.5-turbo-0301\",\n",
            "  \"object\": \"chat.completion\",\n",
            "  \"usage\": {\n",
            "    \"completion_tokens\": 125,\n",
            "    \"prompt_tokens\": 755,\n",
            "    \"total_tokens\": 880\n",
            "  }\n",
            "}\n",
            "{\n",
            "  \"choices\": [\n",
            "    {\n",
            "      \"finish_reason\": \"stop\",\n",
            "      \"index\": 0,\n",
            "      \"message\": {\n",
            "        \"content\": \"The US financial system has a long and complex history, from the creation of the first bank in 1791 to the establishment of the Federal Reserve System in 1913. In the early 2000s, the housing bubble began to form due to a number of factors, including low interest rates and easy access to credit. This, in turn, fueled the growth of the subprime mortgage market, which allowed individuals with poor credit histories to obtain home loans with low introductory rates. Many of these loans were adjustable-rate mortgages, which resulted in increased payments as interest rates rose. As more people defaulted on their loans, the housing market began to collapse, leading to widespread financial turmoil.\",\n",
            "        \"role\": \"assistant\"\n",
            "      }\n",
            "    }\n",
            "  ],\n",
            "  \"created\": 1679071527,\n",
            "  \"id\": \"chatcmpl-6v7UlFdmsHlHYr1PDVFcqNfggyoaB\",\n",
            "  \"model\": \"gpt-3.5-turbo-0301\",\n",
            "  \"object\": \"chat.completion\",\n",
            "  \"usage\": {\n",
            "    \"completion_tokens\": 138,\n",
            "    \"prompt_tokens\": 925,\n",
            "    \"total_tokens\": 1063\n",
            "  }\n",
            "}\n",
            "{\n",
            "  \"choices\": [\n",
            "    {\n",
            "      \"finish_reason\": \"stop\",\n",
            "      \"index\": 0,\n",
            "      \"message\": {\n",
            "        \"content\": \"The 2008 financial crisis involved many key players, including government entities, financial institutions, and homeowners and borrowers. Government entities played a role in the crisis through their policies, regulations, and oversight. Financial institutions played a major role in the crisis as some engaged in unethical practices, such as subprime lending and packaging of risky mortgage securities. Homeowners and borrowers also played a role in the crisis through the high level of mortgage defaults and inability to keep up with mortgage payments, which led to foreclosures. Understanding the various roles and actions of these key players is important in understanding the causes and effects of the financial crisis.\",\n",
            "        \"role\": \"assistant\"\n",
            "      }\n",
            "    }\n",
            "  ],\n",
            "  \"created\": 1679071542,\n",
            "  \"id\": \"chatcmpl-6v7V07HDgII9xj9qjxULLBszm3V8P\",\n",
            "  \"model\": \"gpt-3.5-turbo-0301\",\n",
            "  \"object\": \"chat.completion\",\n",
            "  \"usage\": {\n",
            "    \"completion_tokens\": 126,\n",
            "    \"prompt_tokens\": 1099,\n",
            "    \"total_tokens\": 1225\n",
            "  }\n",
            "}\n"
          ]
        }
      ]
    },
    {
      "cell_type": "code",
      "source": [],
      "metadata": {
        "id": "ClBNnHMZbTck"
      },
      "execution_count": null,
      "outputs": []
    }
  ]
}