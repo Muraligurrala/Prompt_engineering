{
  "nbformat": 4,
  "nbformat_minor": 0,
  "metadata": {
    "colab": {
      "provenance": [],
      "include_colab_link": true
    },
    "kernelspec": {
      "name": "python3",
      "display_name": "Python 3"
    },
    "language_info": {
      "name": "python"
    },
    "widgets": {
      "application/vnd.jupyter.widget-state+json": {
        "6bbaa32b209642538d73d98afedc6215": {
          "model_module": "@jupyter-widgets/controls",
          "model_name": "HTMLModel",
          "model_module_version": "1.5.0",
          "state": {
            "_dom_classes": [],
            "_model_module": "@jupyter-widgets/controls",
            "_model_module_version": "1.5.0",
            "_model_name": "HTMLModel",
            "_view_count": null,
            "_view_module": "@jupyter-widgets/controls",
            "_view_module_version": "1.5.0",
            "_view_name": "HTMLView",
            "description": "",
            "description_tooltip": null,
            "layout": "IPY_MODEL_2fa3aa8efc6243f79268be30f1103caf",
            "placeholder": "​",
            "style": "IPY_MODEL_1604528c039e45b5ad7f87d0a697c959",
            "value": "<p>AdaptFit, OmniFit, UniversalFit, OneSizeFit, PerfectFit</p>"
          }
        },
        "2fa3aa8efc6243f79268be30f1103caf": {
          "model_module": "@jupyter-widgets/base",
          "model_name": "LayoutModel",
          "model_module_version": "1.2.0",
          "state": {
            "_model_module": "@jupyter-widgets/base",
            "_model_module_version": "1.2.0",
            "_model_name": "LayoutModel",
            "_view_count": null,
            "_view_module": "@jupyter-widgets/base",
            "_view_module_version": "1.2.0",
            "_view_name": "LayoutView",
            "align_content": null,
            "align_items": null,
            "align_self": null,
            "border": null,
            "bottom": null,
            "display": null,
            "flex": null,
            "flex_flow": null,
            "grid_area": null,
            "grid_auto_columns": null,
            "grid_auto_flow": null,
            "grid_auto_rows": null,
            "grid_column": null,
            "grid_gap": null,
            "grid_row": null,
            "grid_template_areas": null,
            "grid_template_columns": null,
            "grid_template_rows": null,
            "height": null,
            "justify_content": null,
            "justify_items": null,
            "left": null,
            "margin": null,
            "max_height": null,
            "max_width": null,
            "min_height": null,
            "min_width": null,
            "object_fit": null,
            "object_position": null,
            "order": null,
            "overflow": null,
            "overflow_x": null,
            "overflow_y": null,
            "padding": null,
            "right": null,
            "top": null,
            "visibility": null,
            "width": null
          }
        },
        "1604528c039e45b5ad7f87d0a697c959": {
          "model_module": "@jupyter-widgets/controls",
          "model_name": "DescriptionStyleModel",
          "model_module_version": "1.5.0",
          "state": {
            "_model_module": "@jupyter-widgets/controls",
            "_model_module_version": "1.5.0",
            "_model_name": "DescriptionStyleModel",
            "_view_count": null,
            "_view_module": "@jupyter-widgets/base",
            "_view_module_version": "1.2.0",
            "_view_name": "StyleView",
            "description_width": ""
          }
        },
        "7fa86640f4d14879b99e5813b3ef1e56": {
          "model_module": "@jupyter-widgets/controls",
          "model_name": "HBoxModel",
          "model_module_version": "1.5.0",
          "state": {
            "_dom_classes": [],
            "_model_module": "@jupyter-widgets/controls",
            "_model_module_version": "1.5.0",
            "_model_name": "HBoxModel",
            "_view_count": null,
            "_view_module": "@jupyter-widgets/controls",
            "_view_module_version": "1.5.0",
            "_view_name": "HBoxView",
            "box_style": "",
            "children": [
              "IPY_MODEL_526221c349e74f119ba1f5196467fd72",
              "IPY_MODEL_dbaf76a0eff4401d811aabc132932a66"
            ],
            "layout": "IPY_MODEL_58019ee52d17400ab489b5e13fac6dec"
          }
        },
        "526221c349e74f119ba1f5196467fd72": {
          "model_module": "@jupyter-widgets/controls",
          "model_name": "ButtonModel",
          "model_module_version": "1.5.0",
          "state": {
            "_dom_classes": [],
            "_model_module": "@jupyter-widgets/controls",
            "_model_module_version": "1.5.0",
            "_model_name": "ButtonModel",
            "_view_count": null,
            "_view_module": "@jupyter-widgets/controls",
            "_view_module_version": "1.5.0",
            "_view_name": "ButtonView",
            "button_style": "",
            "description": "👎",
            "disabled": false,
            "icon": "",
            "layout": "IPY_MODEL_38dd9d4f6feb4acb9fdb2279d9e1ff02",
            "style": "IPY_MODEL_13795af57564409486408b7a1f7a2f04",
            "tooltip": ""
          }
        },
        "dbaf76a0eff4401d811aabc132932a66": {
          "model_module": "@jupyter-widgets/controls",
          "model_name": "ButtonModel",
          "model_module_version": "1.5.0",
          "state": {
            "_dom_classes": [],
            "_model_module": "@jupyter-widgets/controls",
            "_model_module_version": "1.5.0",
            "_model_name": "ButtonModel",
            "_view_count": null,
            "_view_module": "@jupyter-widgets/controls",
            "_view_module_version": "1.5.0",
            "_view_name": "ButtonView",
            "button_style": "",
            "description": "👍",
            "disabled": false,
            "icon": "",
            "layout": "IPY_MODEL_492c1077613d44868f9ff58c5b00e627",
            "style": "IPY_MODEL_fe0b2a8d3d8d46928369f19c260117ac",
            "tooltip": ""
          }
        },
        "58019ee52d17400ab489b5e13fac6dec": {
          "model_module": "@jupyter-widgets/base",
          "model_name": "LayoutModel",
          "model_module_version": "1.2.0",
          "state": {
            "_model_module": "@jupyter-widgets/base",
            "_model_module_version": "1.2.0",
            "_model_name": "LayoutModel",
            "_view_count": null,
            "_view_module": "@jupyter-widgets/base",
            "_view_module_version": "1.2.0",
            "_view_name": "LayoutView",
            "align_content": null,
            "align_items": null,
            "align_self": null,
            "border": null,
            "bottom": null,
            "display": null,
            "flex": null,
            "flex_flow": null,
            "grid_area": null,
            "grid_auto_columns": null,
            "grid_auto_flow": null,
            "grid_auto_rows": null,
            "grid_column": null,
            "grid_gap": null,
            "grid_row": null,
            "grid_template_areas": null,
            "grid_template_columns": null,
            "grid_template_rows": null,
            "height": null,
            "justify_content": null,
            "justify_items": null,
            "left": null,
            "margin": null,
            "max_height": null,
            "max_width": null,
            "min_height": null,
            "min_width": null,
            "object_fit": null,
            "object_position": null,
            "order": null,
            "overflow": null,
            "overflow_x": null,
            "overflow_y": null,
            "padding": null,
            "right": null,
            "top": null,
            "visibility": null,
            "width": null
          }
        },
        "38dd9d4f6feb4acb9fdb2279d9e1ff02": {
          "model_module": "@jupyter-widgets/base",
          "model_name": "LayoutModel",
          "model_module_version": "1.2.0",
          "state": {
            "_model_module": "@jupyter-widgets/base",
            "_model_module_version": "1.2.0",
            "_model_name": "LayoutModel",
            "_view_count": null,
            "_view_module": "@jupyter-widgets/base",
            "_view_module_version": "1.2.0",
            "_view_name": "LayoutView",
            "align_content": null,
            "align_items": null,
            "align_self": null,
            "border": null,
            "bottom": null,
            "display": null,
            "flex": null,
            "flex_flow": null,
            "grid_area": null,
            "grid_auto_columns": null,
            "grid_auto_flow": null,
            "grid_auto_rows": null,
            "grid_column": null,
            "grid_gap": null,
            "grid_row": null,
            "grid_template_areas": null,
            "grid_template_columns": null,
            "grid_template_rows": null,
            "height": null,
            "justify_content": null,
            "justify_items": null,
            "left": null,
            "margin": null,
            "max_height": null,
            "max_width": null,
            "min_height": null,
            "min_width": null,
            "object_fit": null,
            "object_position": null,
            "order": null,
            "overflow": null,
            "overflow_x": null,
            "overflow_y": null,
            "padding": null,
            "right": null,
            "top": null,
            "visibility": null,
            "width": null
          }
        },
        "13795af57564409486408b7a1f7a2f04": {
          "model_module": "@jupyter-widgets/controls",
          "model_name": "ButtonStyleModel",
          "model_module_version": "1.5.0",
          "state": {
            "_model_module": "@jupyter-widgets/controls",
            "_model_module_version": "1.5.0",
            "_model_name": "ButtonStyleModel",
            "_view_count": null,
            "_view_module": "@jupyter-widgets/base",
            "_view_module_version": "1.2.0",
            "_view_name": "StyleView",
            "button_color": null,
            "font_weight": ""
          }
        },
        "492c1077613d44868f9ff58c5b00e627": {
          "model_module": "@jupyter-widgets/base",
          "model_name": "LayoutModel",
          "model_module_version": "1.2.0",
          "state": {
            "_model_module": "@jupyter-widgets/base",
            "_model_module_version": "1.2.0",
            "_model_name": "LayoutModel",
            "_view_count": null,
            "_view_module": "@jupyter-widgets/base",
            "_view_module_version": "1.2.0",
            "_view_name": "LayoutView",
            "align_content": null,
            "align_items": null,
            "align_self": null,
            "border": null,
            "bottom": null,
            "display": null,
            "flex": null,
            "flex_flow": null,
            "grid_area": null,
            "grid_auto_columns": null,
            "grid_auto_flow": null,
            "grid_auto_rows": null,
            "grid_column": null,
            "grid_gap": null,
            "grid_row": null,
            "grid_template_areas": null,
            "grid_template_columns": null,
            "grid_template_rows": null,
            "height": null,
            "justify_content": null,
            "justify_items": null,
            "left": null,
            "margin": null,
            "max_height": null,
            "max_width": null,
            "min_height": null,
            "min_width": null,
            "object_fit": null,
            "object_position": null,
            "order": null,
            "overflow": null,
            "overflow_x": null,
            "overflow_y": null,
            "padding": null,
            "right": null,
            "top": null,
            "visibility": null,
            "width": null
          }
        },
        "fe0b2a8d3d8d46928369f19c260117ac": {
          "model_module": "@jupyter-widgets/controls",
          "model_name": "ButtonStyleModel",
          "model_module_version": "1.5.0",
          "state": {
            "_model_module": "@jupyter-widgets/controls",
            "_model_module_version": "1.5.0",
            "_model_name": "ButtonStyleModel",
            "_view_count": null,
            "_view_module": "@jupyter-widgets/base",
            "_view_module_version": "1.2.0",
            "_view_name": "StyleView",
            "button_color": null,
            "font_weight": ""
          }
        },
        "f71a54fb36514734b0b676e49dd84b31": {
          "model_module": "@jupyter-widgets/controls",
          "model_name": "LabelModel",
          "model_module_version": "1.5.0",
          "state": {
            "_dom_classes": [],
            "_model_module": "@jupyter-widgets/controls",
            "_model_module_version": "1.5.0",
            "_model_name": "LabelModel",
            "_view_count": null,
            "_view_module": "@jupyter-widgets/controls",
            "_view_module_version": "1.5.0",
            "_view_name": "LabelView",
            "description": "",
            "description_tooltip": null,
            "layout": "IPY_MODEL_e1eaff3fd625467bafc6b1624619b3b6",
            "placeholder": "​",
            "style": "IPY_MODEL_ad91d4a8441649cbbe904e7bf7fd34a1",
            "value": "Response: 10 / 10"
          }
        },
        "e1eaff3fd625467bafc6b1624619b3b6": {
          "model_module": "@jupyter-widgets/base",
          "model_name": "LayoutModel",
          "model_module_version": "1.2.0",
          "state": {
            "_model_module": "@jupyter-widgets/base",
            "_model_module_version": "1.2.0",
            "_model_name": "LayoutModel",
            "_view_count": null,
            "_view_module": "@jupyter-widgets/base",
            "_view_module_version": "1.2.0",
            "_view_name": "LayoutView",
            "align_content": null,
            "align_items": null,
            "align_self": null,
            "border": null,
            "bottom": null,
            "display": null,
            "flex": null,
            "flex_flow": null,
            "grid_area": null,
            "grid_auto_columns": null,
            "grid_auto_flow": null,
            "grid_auto_rows": null,
            "grid_column": null,
            "grid_gap": null,
            "grid_row": null,
            "grid_template_areas": null,
            "grid_template_columns": null,
            "grid_template_rows": null,
            "height": null,
            "justify_content": null,
            "justify_items": null,
            "left": null,
            "margin": null,
            "max_height": null,
            "max_width": null,
            "min_height": null,
            "min_width": null,
            "object_fit": null,
            "object_position": null,
            "order": null,
            "overflow": null,
            "overflow_x": null,
            "overflow_y": null,
            "padding": null,
            "right": null,
            "top": null,
            "visibility": null,
            "width": null
          }
        },
        "ad91d4a8441649cbbe904e7bf7fd34a1": {
          "model_module": "@jupyter-widgets/controls",
          "model_name": "DescriptionStyleModel",
          "model_module_version": "1.5.0",
          "state": {
            "_model_module": "@jupyter-widgets/controls",
            "_model_module_version": "1.5.0",
            "_model_name": "DescriptionStyleModel",
            "_view_count": null,
            "_view_module": "@jupyter-widgets/base",
            "_view_module_version": "1.2.0",
            "_view_name": "StyleView",
            "description_width": ""
          }
        }
      }
    }
  },
  "cells": [
    {
      "cell_type": "markdown",
      "metadata": {
        "id": "view-in-github",
        "colab_type": "text"
      },
      "source": [
        "<a href=\"https://colab.research.google.com/github/Muraligurrala/Prompt_engineering/blob/main/Prompt_Optimization.ipynb\" target=\"_parent\"><img src=\"https://colab.research.google.com/assets/colab-badge.svg\" alt=\"Open In Colab\"/></a>"
      ]
    },
    {
      "cell_type": "code",
      "source": [
        "# get the openai secret key\n",
        "import getpass\n",
        "\n",
        "secret_key = getpass.getpass('Please enter your openai key: ') # https://platform.openai.com/account/api-keys"
      ],
      "metadata": {
        "colab": {
          "base_uri": "https://localhost:8080/"
        },
        "id": "h84qcT-tAQZk",
        "outputId": "becf788f-3dad-42ce-9876-c52823aeed2a"
      },
      "execution_count": null,
      "outputs": [
        {
          "name": "stdout",
          "output_type": "stream",
          "text": [
            "Please enter your openai key: ··········\n"
          ]
        }
      ]
    },
    {
      "cell_type": "code",
      "source": [
        "!pip install openai --upgrade"
      ],
      "metadata": {
        "colab": {
          "base_uri": "https://localhost:8080/"
        },
        "id": "Ueu0FNZXAUKt",
        "outputId": "ee56068f-7e0e-4f96-bae5-79cfb94cb0f1"
      },
      "execution_count": null,
      "outputs": [
        {
          "output_type": "stream",
          "name": "stdout",
          "text": [
            "Collecting openai\n",
            "  Downloading openai-1.3.7-py3-none-any.whl (221 kB)\n",
            "\u001b[?25l     \u001b[90m━━━━━━━━━━━━━━━━━━━━━━━━━━━━━━━━━━━━━━━━\u001b[0m \u001b[32m0.0/221.4 kB\u001b[0m \u001b[31m?\u001b[0m eta \u001b[36m-:--:--\u001b[0m\r\u001b[2K     \u001b[91m━━━━━━━\u001b[0m\u001b[90m╺\u001b[0m\u001b[90m━━━━━━━━━━━━━━━━━━━━━━━━━━━━━━━━\u001b[0m \u001b[32m41.0/221.4 kB\u001b[0m \u001b[31m1.1 MB/s\u001b[0m eta \u001b[36m0:00:01\u001b[0m\r\u001b[2K     \u001b[91m━━━━━━━━━━━━━━━━━━━━━━━━━\u001b[0m\u001b[91m╸\u001b[0m\u001b[90m━━━━━━━━━━━━━━\u001b[0m \u001b[32m143.4/221.4 kB\u001b[0m \u001b[31m2.1 MB/s\u001b[0m eta \u001b[36m0:00:01\u001b[0m\r\u001b[2K     \u001b[90m━━━━━━━━━━━━━━━━━━━━━━━━━━━━━━━━━━━━━━━━\u001b[0m \u001b[32m221.4/221.4 kB\u001b[0m \u001b[31m2.4 MB/s\u001b[0m eta \u001b[36m0:00:00\u001b[0m\n",
            "\u001b[?25hRequirement already satisfied: anyio<4,>=3.5.0 in /usr/local/lib/python3.10/dist-packages (from openai) (3.7.1)\n",
            "Requirement already satisfied: distro<2,>=1.7.0 in /usr/lib/python3/dist-packages (from openai) (1.7.0)\n",
            "Collecting httpx<1,>=0.23.0 (from openai)\n",
            "  Downloading httpx-0.25.2-py3-none-any.whl (74 kB)\n",
            "\u001b[2K     \u001b[90m━━━━━━━━━━━━━━━━━━━━━━━━━━━━━━━━━━━━━━━━\u001b[0m \u001b[32m75.0/75.0 kB\u001b[0m \u001b[31m10.7 MB/s\u001b[0m eta \u001b[36m0:00:00\u001b[0m\n",
            "\u001b[?25hRequirement already satisfied: pydantic<3,>=1.9.0 in /usr/local/lib/python3.10/dist-packages (from openai) (1.10.13)\n",
            "Requirement already satisfied: sniffio in /usr/local/lib/python3.10/dist-packages (from openai) (1.3.0)\n",
            "Requirement already satisfied: tqdm>4 in /usr/local/lib/python3.10/dist-packages (from openai) (4.66.1)\n",
            "Requirement already satisfied: typing-extensions<5,>=4.5 in /usr/local/lib/python3.10/dist-packages (from openai) (4.5.0)\n",
            "Requirement already satisfied: idna>=2.8 in /usr/local/lib/python3.10/dist-packages (from anyio<4,>=3.5.0->openai) (3.6)\n",
            "Requirement already satisfied: exceptiongroup in /usr/local/lib/python3.10/dist-packages (from anyio<4,>=3.5.0->openai) (1.2.0)\n",
            "Requirement already satisfied: certifi in /usr/local/lib/python3.10/dist-packages (from httpx<1,>=0.23.0->openai) (2023.11.17)\n",
            "Collecting httpcore==1.* (from httpx<1,>=0.23.0->openai)\n",
            "  Downloading httpcore-1.0.2-py3-none-any.whl (76 kB)\n",
            "\u001b[2K     \u001b[90m━━━━━━━━━━━━━━━━━━━━━━━━━━━━━━━━━━━━━━━━\u001b[0m \u001b[32m76.9/76.9 kB\u001b[0m \u001b[31m10.6 MB/s\u001b[0m eta \u001b[36m0:00:00\u001b[0m\n",
            "\u001b[?25hCollecting h11<0.15,>=0.13 (from httpcore==1.*->httpx<1,>=0.23.0->openai)\n",
            "  Downloading h11-0.14.0-py3-none-any.whl (58 kB)\n",
            "\u001b[2K     \u001b[90m━━━━━━━━━━━━━━━━━━━━━━━━━━━━━━━━━━━━━━━━\u001b[0m \u001b[32m58.3/58.3 kB\u001b[0m \u001b[31m8.3 MB/s\u001b[0m eta \u001b[36m0:00:00\u001b[0m\n",
            "\u001b[?25hInstalling collected packages: h11, httpcore, httpx, openai\n",
            "\u001b[31mERROR: pip's dependency resolver does not currently take into account all the packages that are installed. This behaviour is the source of the following dependency conflicts.\n",
            "llmx 0.0.15a0 requires cohere, which is not installed.\n",
            "llmx 0.0.15a0 requires tiktoken, which is not installed.\u001b[0m\u001b[31m\n",
            "\u001b[0mSuccessfully installed h11-0.14.0 httpcore-1.0.2 httpx-0.25.2 openai-1.3.7\n"
          ]
        }
      ]
    },
    {
      "cell_type": "code",
      "execution_count": null,
      "metadata": {
        "colab": {
          "base_uri": "https://localhost:8080/"
        },
        "id": "74upFHOR_01p",
        "outputId": "25564202-bac3-4beb-d8d9-211e6285844d"
      },
      "outputs": [
        {
          "output_type": "stream",
          "name": "stdout",
          "text": [
            "  variant                                             prompt  \\\n",
            "0       A  Product description: A pair of shoes that can ...   \n",
            "1       A  Product description: A pair of shoes that can ...   \n",
            "2       A  Product description: A pair of shoes that can ...   \n",
            "3       A  Product description: A pair of shoes that can ...   \n",
            "4       A  Product description: A pair of shoes that can ...   \n",
            "5       B  Product description: A home milkshake maker.\\n...   \n",
            "6       B  Product description: A home milkshake maker.\\n...   \n",
            "7       B  Product description: A home milkshake maker.\\n...   \n",
            "8       B  Product description: A home milkshake maker.\\n...   \n",
            "9       B  Product description: A home milkshake maker.\\n...   \n",
            "\n",
            "                                            response  \n",
            "0  1. OmniFit Shoes\\n2. FitEase Shoes\\n3. FlexFit...  \n",
            "1  1. FlexFit Shoes\\n2. OmniFit Footwear\\n3. Univ...  \n",
            "2  1. FlexiFit Shoes\\n2. OmniFit Footwear\\n3. Adj...  \n",
            "3  1. AdaptaFit Shoes\\n2. FlexiFit Footwear\\n3. P...  \n",
            "4  1. Omni-Fit Shoes\\n2. AdaptaFit Shoes\\n3. Flex...  \n",
            "5  AdaptFit, OmniFit, UniversalFit, OneSizeFit, P...  \n",
            "6         AdaptaFit, OmniFit, FlexiFit, AllSize Fit.  \n",
            "7           AdaptFit, OmniFit, PerfectFit, FlexiFit.  \n",
            "8    AdaptaFit, OmniFit Shoes, PerfectFit, FlexiFit.  \n",
            "9          AdaptaFit, OmniFit, PerfectFit, FitFinder  \n"
          ]
        }
      ],
      "source": [
        "# Define two variants of the prompt\n",
        "prompt_A = \"\"\"Product description: A pair of shoes that can fit any foot size.\n",
        "Seed words: adaptable, fit, omni-fit.\n",
        "Product names:\"\"\"\n",
        "\n",
        "prompt_B = \"\"\"Product description: A home milkshake maker.\n",
        "Seed words: fast, healthy, compact.\n",
        "Product names: HomeShaker, Fit Shaker, QuickShake, Shake Maker\n",
        "\n",
        "Product description: A watch that can tell accurate time in space.\n",
        "Seed words: astronaut, space-hardened, eliptical orbit\n",
        "Product names: AstroTime, SpaceGuard, Orbit-Accurate, EliptoTime.\n",
        "\n",
        "Product description: A pair of shoes that can fit any foot size.\n",
        "Seed words: adaptable, fit, omni-fit.\n",
        "Product names:\"\"\"\n",
        "\n",
        "test_prompts = [prompt_A, prompt_B]\n",
        "\n",
        "import pandas as pd\n",
        "from openai import OpenAI\n",
        "\n",
        "client = OpenAI(api_key=secret_key)\n",
        "\n",
        "def get_response(prompt):\n",
        "    response = client.chat.completions.create(\n",
        "        model=\"gpt-3.5-turbo\",\n",
        "        messages=[\n",
        "            {\n",
        "                \"role\": \"system\",\n",
        "                \"content\": \"You are a helpful assistant.\"\n",
        "            },\n",
        "            {\n",
        "                \"role\": \"user\",\n",
        "                \"content\": prompt\n",
        "            }\n",
        "        ]\n",
        "    )\n",
        "    return response.choices[0].message.content\n",
        "\n",
        "# Iterate through the prompts and get responses\n",
        "test_prompts = [prompt_A, prompt_B]\n",
        "responses = []\n",
        "num_tests = 5\n",
        "\n",
        "for idx, prompt in enumerate(test_prompts):\n",
        "    # prompt number as a letter\n",
        "    var_name = chr(ord('A') + idx)\n",
        "\n",
        "    for i in range(num_tests):\n",
        "        # Get a response from the model\n",
        "        response = get_response(prompt)\n",
        "\n",
        "        data = {\n",
        "            \"variant\": var_name,\n",
        "            \"prompt\": prompt,\n",
        "            \"response\": response\n",
        "            }\n",
        "        responses.append(data)\n",
        "\n",
        "# Convert responses into a DataFrame\n",
        "df = pd.DataFrame(responses)\n",
        "\n",
        "# Save the DataFrame as a CSV file\n",
        "df.to_csv(\"responses.csv\", index=False)\n",
        "\n",
        "print(df)"
      ]
    },
    {
      "cell_type": "code",
      "source": [
        "import ipywidgets as widgets\n",
        "from IPython.display import display\n",
        "import pandas as pd\n",
        "\n",
        "# load the responses.csv file\n",
        "df = pd.read_csv(\"responses.csv\")\n",
        "\n",
        "# Shuffle the DataFrame\n",
        "df = df.sample(frac=1).reset_index(drop=True)\n",
        "\n",
        "# Assuming df is your DataFrame and 'response' is the column with the text you want to test\n",
        "response_index = 0\n",
        "df['feedback'] = pd.Series(dtype='str')  # add a new column to store feedback\n",
        "\n",
        "def on_button_clicked(b):\n",
        "    global response_index\n",
        "    #  convert thumbs up / down to 1 / 0\n",
        "    user_feedback = 1 if b.description == \"👍\" else 0\n",
        "\n",
        "    # update the feedback column\n",
        "    df.at[response_index, 'feedback'] = user_feedback\n",
        "\n",
        "    response_index += 1\n",
        "    if response_index < len(df):\n",
        "        update_response()\n",
        "    else:\n",
        "        # save the feedback to a CSV file\n",
        "        df.to_csv(\"results.csv\", index=False)\n",
        "\n",
        "        print(\"A/B testing completed. Here's the results:\")\n",
        "        # Calculate score for each variant and count the number of rows per variant\n",
        "        summary_df = df.groupby('variant').agg(count=('feedback', 'count'), score=('feedback', 'mean')).reset_index()\n",
        "        print(summary_df)\n",
        "\n",
        "def update_response():\n",
        "    new_response = df.iloc[response_index]['response']\n",
        "    new_response = \"<p>\" + new_response + \"</p>\" if pd.notna(new_response) else \"<p>No response</p>\"\n",
        "    response.value = new_response\n",
        "    count_label.value = f\"Response: {response_index + 1} / {len(df)}\"\n",
        "\n",
        "response = widgets.HTML()\n",
        "count_label = widgets.Label()\n",
        "\n",
        "update_response()\n",
        "\n",
        "thumbs_up_button = widgets.Button(description='👍')\n",
        "thumbs_up_button.on_click(on_button_clicked)\n",
        "\n",
        "thumbs_down_button = widgets.Button(description='👎')\n",
        "thumbs_down_button.on_click(on_button_clicked)\n",
        "\n",
        "button_box = widgets.HBox([thumbs_down_button, thumbs_up_button])\n",
        "\n",
        "display(response, button_box, count_label)"
      ],
      "metadata": {
        "colab": {
          "base_uri": "https://localhost:8080/",
          "height": 194,
          "referenced_widgets": [
            "6bbaa32b209642538d73d98afedc6215",
            "2fa3aa8efc6243f79268be30f1103caf",
            "1604528c039e45b5ad7f87d0a697c959",
            "7fa86640f4d14879b99e5813b3ef1e56",
            "526221c349e74f119ba1f5196467fd72",
            "dbaf76a0eff4401d811aabc132932a66",
            "58019ee52d17400ab489b5e13fac6dec",
            "38dd9d4f6feb4acb9fdb2279d9e1ff02",
            "13795af57564409486408b7a1f7a2f04",
            "492c1077613d44868f9ff58c5b00e627",
            "fe0b2a8d3d8d46928369f19c260117ac",
            "f71a54fb36514734b0b676e49dd84b31",
            "e1eaff3fd625467bafc6b1624619b3b6",
            "ad91d4a8441649cbbe904e7bf7fd34a1"
          ]
        },
        "id": "kNi_zZ28_9hv",
        "outputId": "474941a2-b6c8-4481-a1d4-04b60cdfcc22"
      },
      "execution_count": null,
      "outputs": [
        {
          "output_type": "display_data",
          "data": {
            "text/plain": [
              "HTML(value='<p>1. OmniFit Shoes\\n2. FitEase Shoes\\n3. FlexFit Shoes\\n4. Uni-Fit Shoes\\n5. AdaptX Shoes\\n6. Cus…"
            ],
            "application/vnd.jupyter.widget-view+json": {
              "version_major": 2,
              "version_minor": 0,
              "model_id": "6bbaa32b209642538d73d98afedc6215"
            }
          },
          "metadata": {}
        },
        {
          "output_type": "display_data",
          "data": {
            "text/plain": [
              "HBox(children=(Button(description='👎', style=ButtonStyle()), Button(description='👍', style=ButtonStyle())))"
            ],
            "application/vnd.jupyter.widget-view+json": {
              "version_major": 2,
              "version_minor": 0,
              "model_id": "7fa86640f4d14879b99e5813b3ef1e56"
            }
          },
          "metadata": {}
        },
        {
          "output_type": "display_data",
          "data": {
            "text/plain": [
              "Label(value='Response: 1 / 10')"
            ],
            "application/vnd.jupyter.widget-view+json": {
              "version_major": 2,
              "version_minor": 0,
              "model_id": "f71a54fb36514734b0b676e49dd84b31"
            }
          },
          "metadata": {}
        },
        {
          "output_type": "stream",
          "name": "stdout",
          "text": [
            "A/B testing completed. Here's the results:\n",
            "  variant  count  score\n",
            "0       A      5    0.0\n",
            "1       B      5    1.0\n"
          ]
        }
      ]
    },
    {
      "cell_type": "code",
      "source": [],
      "metadata": {
        "id": "Df3olcB7DNhk"
      },
      "execution_count": null,
      "outputs": []
    }
  ]
}